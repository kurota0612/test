{
  "nbformat": 4,
  "nbformat_minor": 0,
  "metadata": {
    "colab": {
      "name": "mlflow-test.ipynb",
      "provenance": [],
      "collapsed_sections": [],
      "mount_file_id": "19xuI7VYPd-l8L-B_OosZeTjiMrM5bbGr",
      "authorship_tag": "ABX9TyN1X2CYy6YJQkzkXVyZQLYn"
    },
    "kernelspec": {
      "display_name": "Python 3",
      "name": "python3"
    },
    "language_info": {
      "name": "python"
    }
  },
  "cells": [
    {
      "cell_type": "markdown",
      "source": [
        "[![Open In Colab](https://colab.research.google.com/assets/colab-badge.svg)](https://colab.research.google.com/github/kurota0612/test/blob/main/mlflow-test.ipynb)"
      ],
      "metadata": {
        "id": "wprq1Ih_F8B2"
      }
    },
    {
      "cell_type": "code",
      "metadata": {
        "colab": {
          "base_uri": "https://localhost:8080/"
        },
        "id": "PW3D5GPvuMvx",
        "outputId": "ae6cf857-484d-4247-ac10-b83baac0b61f"
      },
      "source": [
        "!pip install mlflow"
      ],
      "execution_count": null,
      "outputs": [
        {
          "output_type": "stream",
          "name": "stdout",
          "text": [
            "Collecting mlflow\n",
            "  Downloading mlflow-1.22.0-py3-none-any.whl (15.5 MB)\n",
            "\u001b[K     |████████████████████████████████| 15.5 MB 5.3 MB/s \n",
            "\u001b[?25hRequirement already satisfied: protobuf>=3.7.0 in /usr/local/lib/python3.7/dist-packages (from mlflow) (3.17.3)\n",
            "Collecting querystring-parser\n",
            "  Downloading querystring_parser-1.2.4-py2.py3-none-any.whl (7.9 kB)\n",
            "Requirement already satisfied: Flask in /usr/local/lib/python3.7/dist-packages (from mlflow) (1.1.4)\n",
            "Collecting pyyaml>=5.1\n",
            "  Downloading PyYAML-6.0-cp37-cp37m-manylinux_2_5_x86_64.manylinux1_x86_64.manylinux_2_12_x86_64.manylinux2010_x86_64.whl (596 kB)\n",
            "\u001b[K     |████████████████████████████████| 596 kB 42.4 MB/s \n",
            "\u001b[?25hRequirement already satisfied: sqlparse>=0.3.1 in /usr/local/lib/python3.7/dist-packages (from mlflow) (0.4.2)\n",
            "Requirement already satisfied: packaging in /usr/local/lib/python3.7/dist-packages (from mlflow) (21.3)\n",
            "Requirement already satisfied: numpy in /usr/local/lib/python3.7/dist-packages (from mlflow) (1.19.5)\n",
            "Requirement already satisfied: requests>=2.17.3 in /usr/local/lib/python3.7/dist-packages (from mlflow) (2.23.0)\n",
            "Collecting gunicorn\n",
            "  Downloading gunicorn-20.1.0-py3-none-any.whl (79 kB)\n",
            "\u001b[K     |████████████████████████████████| 79 kB 7.3 MB/s \n",
            "\u001b[?25hCollecting alembic<=1.4.1\n",
            "  Downloading alembic-1.4.1.tar.gz (1.1 MB)\n",
            "\u001b[K     |████████████████████████████████| 1.1 MB 48.7 MB/s \n",
            "\u001b[?25hRequirement already satisfied: entrypoints in /usr/local/lib/python3.7/dist-packages (from mlflow) (0.3)\n",
            "Collecting gitpython>=2.1.0\n",
            "  Downloading GitPython-3.1.24-py3-none-any.whl (180 kB)\n",
            "\u001b[K     |████████████████████████████████| 180 kB 49.9 MB/s \n",
            "\u001b[?25hRequirement already satisfied: sqlalchemy in /usr/local/lib/python3.7/dist-packages (from mlflow) (1.4.27)\n",
            "Requirement already satisfied: pandas in /usr/local/lib/python3.7/dist-packages (from mlflow) (1.1.5)\n",
            "Requirement already satisfied: importlib-metadata!=4.7.0,>=3.7.0 in /usr/local/lib/python3.7/dist-packages (from mlflow) (4.8.2)\n",
            "Requirement already satisfied: pytz in /usr/local/lib/python3.7/dist-packages (from mlflow) (2018.9)\n",
            "Requirement already satisfied: cloudpickle in /usr/local/lib/python3.7/dist-packages (from mlflow) (1.3.0)\n",
            "Collecting databricks-cli>=0.8.7\n",
            "  Downloading databricks-cli-0.16.2.tar.gz (58 kB)\n",
            "\u001b[K     |████████████████████████████████| 58 kB 5.2 MB/s \n",
            "\u001b[?25hCollecting docker>=4.0.0\n",
            "  Downloading docker-5.0.3-py2.py3-none-any.whl (146 kB)\n",
            "\u001b[K     |████████████████████████████████| 146 kB 37.1 MB/s \n",
            "\u001b[?25hCollecting prometheus-flask-exporter\n",
            "  Downloading prometheus_flask_exporter-0.18.7-py3-none-any.whl (17 kB)\n",
            "Requirement already satisfied: click>=7.0 in /usr/local/lib/python3.7/dist-packages (from mlflow) (7.1.2)\n",
            "Collecting Mako\n",
            "  Downloading Mako-1.1.6-py2.py3-none-any.whl (75 kB)\n",
            "\u001b[K     |████████████████████████████████| 75 kB 3.1 MB/s \n",
            "\u001b[?25hCollecting python-editor>=0.3\n",
            "  Downloading python_editor-1.0.4-py3-none-any.whl (4.9 kB)\n",
            "Requirement already satisfied: python-dateutil in /usr/local/lib/python3.7/dist-packages (from alembic<=1.4.1->mlflow) (2.8.2)\n",
            "Requirement already satisfied: tabulate>=0.7.7 in /usr/local/lib/python3.7/dist-packages (from databricks-cli>=0.8.7->mlflow) (0.8.9)\n",
            "Requirement already satisfied: six>=1.10.0 in /usr/local/lib/python3.7/dist-packages (from databricks-cli>=0.8.7->mlflow) (1.15.0)\n",
            "Collecting websocket-client>=0.32.0\n",
            "  Downloading websocket_client-1.2.3-py3-none-any.whl (53 kB)\n",
            "\u001b[K     |████████████████████████████████| 53 kB 1.3 MB/s \n",
            "\u001b[?25hRequirement already satisfied: typing-extensions>=3.7.4.3 in /usr/local/lib/python3.7/dist-packages (from gitpython>=2.1.0->mlflow) (3.10.0.2)\n",
            "Collecting gitdb<5,>=4.0.1\n",
            "  Downloading gitdb-4.0.9-py3-none-any.whl (63 kB)\n",
            "\u001b[K     |████████████████████████████████| 63 kB 1.5 MB/s \n",
            "\u001b[?25hCollecting smmap<6,>=3.0.1\n",
            "  Downloading smmap-5.0.0-py3-none-any.whl (24 kB)\n",
            "Requirement already satisfied: zipp>=0.5 in /usr/local/lib/python3.7/dist-packages (from importlib-metadata!=4.7.0,>=3.7.0->mlflow) (3.6.0)\n",
            "Requirement already satisfied: idna<3,>=2.5 in /usr/local/lib/python3.7/dist-packages (from requests>=2.17.3->mlflow) (2.10)\n",
            "Requirement already satisfied: chardet<4,>=3.0.2 in /usr/local/lib/python3.7/dist-packages (from requests>=2.17.3->mlflow) (3.0.4)\n",
            "Requirement already satisfied: urllib3!=1.25.0,!=1.25.1,<1.26,>=1.21.1 in /usr/local/lib/python3.7/dist-packages (from requests>=2.17.3->mlflow) (1.24.3)\n",
            "Requirement already satisfied: certifi>=2017.4.17 in /usr/local/lib/python3.7/dist-packages (from requests>=2.17.3->mlflow) (2021.10.8)\n",
            "Requirement already satisfied: greenlet!=0.4.17 in /usr/local/lib/python3.7/dist-packages (from sqlalchemy->mlflow) (1.1.2)\n",
            "Requirement already satisfied: Jinja2<3.0,>=2.10.1 in /usr/local/lib/python3.7/dist-packages (from Flask->mlflow) (2.11.3)\n",
            "Requirement already satisfied: itsdangerous<2.0,>=0.24 in /usr/local/lib/python3.7/dist-packages (from Flask->mlflow) (1.1.0)\n",
            "Requirement already satisfied: Werkzeug<2.0,>=0.15 in /usr/local/lib/python3.7/dist-packages (from Flask->mlflow) (1.0.1)\n",
            "Requirement already satisfied: MarkupSafe>=0.23 in /usr/local/lib/python3.7/dist-packages (from Jinja2<3.0,>=2.10.1->Flask->mlflow) (2.0.1)\n",
            "Requirement already satisfied: setuptools>=3.0 in /usr/local/lib/python3.7/dist-packages (from gunicorn->mlflow) (57.4.0)\n",
            "Requirement already satisfied: pyparsing!=3.0.5,>=2.0.2 in /usr/local/lib/python3.7/dist-packages (from packaging->mlflow) (3.0.6)\n",
            "Requirement already satisfied: prometheus-client in /usr/local/lib/python3.7/dist-packages (from prometheus-flask-exporter->mlflow) (0.12.0)\n",
            "Building wheels for collected packages: alembic, databricks-cli\n",
            "  Building wheel for alembic (setup.py) ... \u001b[?25l\u001b[?25hdone\n",
            "  Created wheel for alembic: filename=alembic-1.4.1-py2.py3-none-any.whl size=158172 sha256=7094d60c83e6c44a3a93122b175ff06005ecabc90b83830ffaa4935d012d713b\n",
            "  Stored in directory: /root/.cache/pip/wheels/be/5d/0a/9e13f53f4f5dfb67cd8d245bb7cdffe12f135846f491a283e3\n",
            "  Building wheel for databricks-cli (setup.py) ... \u001b[?25l\u001b[?25hdone\n",
            "  Created wheel for databricks-cli: filename=databricks_cli-0.16.2-py3-none-any.whl size=106811 sha256=620b16331ec978be03cad1c50d9a83c44db36b683650ea5dd934b569f7859473\n",
            "  Stored in directory: /root/.cache/pip/wheels/f4/5c/ed/e1ce20a53095f63b27b4964abbad03e59cf3472822addf7d29\n",
            "Successfully built alembic databricks-cli\n",
            "Installing collected packages: smmap, websocket-client, python-editor, Mako, gitdb, querystring-parser, pyyaml, prometheus-flask-exporter, gunicorn, gitpython, docker, databricks-cli, alembic, mlflow\n",
            "  Attempting uninstall: pyyaml\n",
            "    Found existing installation: PyYAML 3.13\n",
            "    Uninstalling PyYAML-3.13:\n",
            "      Successfully uninstalled PyYAML-3.13\n",
            "Successfully installed Mako-1.1.6 alembic-1.4.1 databricks-cli-0.16.2 docker-5.0.3 gitdb-4.0.9 gitpython-3.1.24 gunicorn-20.1.0 mlflow-1.22.0 prometheus-flask-exporter-0.18.7 python-editor-1.0.4 pyyaml-6.0 querystring-parser-1.2.4 smmap-5.0.0 websocket-client-1.2.3\n"
          ]
        }
      ]
    },
    {
      "cell_type": "code",
      "metadata": {
        "id": "KmACM8oIIPwa"
      },
      "source": [
        "def train(in_alpha, in_l1_ratio):\n",
        "    import os\n",
        "    import warnings\n",
        "    import sys\n",
        "\n",
        "    import pandas as pd\n",
        "    import numpy as np\n",
        "    from sklearn.metrics import mean_squared_error, mean_absolute_error, r2_score\n",
        "    from sklearn.model_selection import train_test_split\n",
        "    from sklearn.linear_model import ElasticNet\n",
        "\n",
        "    import mlflow\n",
        "    import mlflow.sklearn\n",
        "    \n",
        "    import logging\n",
        "    logging.basicConfig(level=logging.WARN)\n",
        "    logger = logging.getLogger(__name__)\n",
        "\n",
        "    # 評価指標の計算\n",
        "    def eval_metrics(actual, pred):\n",
        "        rmse = np.sqrt(mean_squared_error(actual, pred))\n",
        "        mae = mean_absolute_error(actual, pred)\n",
        "        r2 = r2_score(actual, pred)\n",
        "        return rmse, mae, r2\n",
        "\n",
        "    warnings.filterwarnings(\"ignore\")\n",
        "    np.random.seed(40)\n",
        "\n",
        "    # Read the wine-quality csv file from the URL\n",
        "    # wine-qualityデータのcsvをURLから読み込み\n",
        "    csv_url = 'http://archive.ics.uci.edu/ml/machine-learning-databases/wine-quality/winequality-red.csv'\n",
        "    \n",
        "    # エラー処理（例外処理）\n",
        "    try:\n",
        "        # wine-qualityデータはセミコロン区切りで保存されているのでセミコロンでseparate\n",
        "        data = pd.read_csv(csv_url, sep=';')\n",
        "    \n",
        "    except Exception as e:\n",
        "        logger.exception(\"Unable to download training & test CSV, check your internet connection. Error: %s\", e)\n",
        "\n",
        "    # Split the data into training and test sets. (0.75, 0.25) split.\n",
        "    # trainデータとtestデータに分ける（0.75:0.25）\n",
        "    train, test = train_test_split(data)\n",
        "\n",
        "    # The predicted column is \"quality\" which is a scalar from [3, 9]\n",
        "    # 予測するqualityカラムは3〜8の値を取る\n",
        "\n",
        "    # 説明変数のみのデータ（train_x, test_x）と目的変数のみのデータ（train_y, test_y）を作る\n",
        "    train_x = train.drop([\"quality\"], axis=1)\n",
        "    test_x = test.drop([\"quality\"], axis=1)\n",
        "    train_y = train[[\"quality\"]]\n",
        "    test_y = test[[\"quality\"]]\n",
        "\n",
        "    # Set default values if no alpha is provided\n",
        "    # train()を実行したときにalphaが設定されてない場合のdefault値を定義\n",
        "    if float(in_alpha) is None:\n",
        "        alpha = 0.5\n",
        "    else:\n",
        "        alpha = float(in_alpha)\n",
        "\n",
        "    # Set default values if no l1_ratio is provided\n",
        "    # train()を実行したときにl1_ratioが設定されてない場合のdefault値を定義\n",
        "    if float(in_l1_ratio) is None:\n",
        "        l1_ratio = 0.5\n",
        "    else:\n",
        "        l1_ratio = float(in_l1_ratio)\n",
        "\n",
        "    # Useful for multiple runs (only doing one run in this sample notebook)\n",
        "    # 複数回実行するときに便利（このnotebookでは1回だけの実行）\n",
        "\n",
        "    # with構文とは\n",
        "    # https://qiita.com/shizen-shin/items/09f11e6c09a85aa72d38\n",
        "\n",
        "    # mlflow.start_run()とは\n",
        "    # https://future-architect.github.io/articles/20200626/\n",
        "    # おそらくwith構文がないと文末に mlflow.end_run() が必要になる\n",
        "\n",
        "    with mlflow.start_run():\n",
        "        # Execute ElasticNet\n",
        "        lr = ElasticNet(alpha=alpha, l1_ratio=l1_ratio, random_state=42)\n",
        "        lr.fit(train_x, train_y)\n",
        "\n",
        "        # Evaluate Metrics\n",
        "        predicted_qualities = lr.predict(test_x)\n",
        "        (rmse, mae, r2) = eval_metrics(test_y, predicted_qualities)\n",
        "\n",
        "        # Print out metrics\n",
        "        print(\"Elasticnet model (alpha=%f, l1_ratio=%f):\" % (alpha, l1_ratio))\n",
        "        print(\"  RMSE: %s\" % rmse)\n",
        "        print(\"  MAE: %s\" % mae)\n",
        "        print(\"  R2: %s\" % r2)\n",
        "\n",
        "        # Log parameter, metrics, and model to MLflow\n",
        "        mlflow.log_param(\"alpha\", alpha)\n",
        "        mlflow.log_param(\"l1_ratio\", l1_ratio)\n",
        "        mlflow.log_metric(\"rmse\", rmse)\n",
        "        mlflow.log_metric(\"r2\", r2)\n",
        "        mlflow.log_metric(\"mae\", mae)\n",
        "\n",
        "        mlflow.sklearn.log_model(lr, \"model\")"
      ],
      "execution_count": null,
      "outputs": []
    },
    {
      "cell_type": "code",
      "metadata": {
        "colab": {
          "base_uri": "https://localhost:8080/"
        },
        "id": "ozNwiTVTKbqX",
        "outputId": "2f95224a-6eca-4977-b8c5-260581a7f44a"
      },
      "source": [
        "train(0.5, 0.5)"
      ],
      "execution_count": null,
      "outputs": [
        {
          "output_type": "stream",
          "name": "stdout",
          "text": [
            "Elasticnet model (alpha=0.500000, l1_ratio=0.500000):\n",
            "  RMSE: 0.7931640229276851\n",
            "  MAE: 0.6271946374319586\n",
            "  R2: 0.10862644997792614\n"
          ]
        }
      ]
    },
    {
      "cell_type": "code",
      "metadata": {
        "id": "rqi1mYUcLPxx",
        "colab": {
          "base_uri": "https://localhost:8080/"
        },
        "outputId": "96ccc6c0-3ec1-4bcf-ee07-1bd7c13effc4"
      },
      "source": [
        "!python train.py"
      ],
      "execution_count": null,
      "outputs": [
        {
          "output_type": "stream",
          "name": "stdout",
          "text": [
            "Elasticnet model (alpha=0.500000, l1_ratio=0.500000):\n",
            "  RMSE: 0.7931640229276851\n",
            "  MAE: 0.6271946374319586\n",
            "  R2: 0.10862644997792614\n"
          ]
        }
      ]
    },
    {
      "cell_type": "code",
      "source": [
        ""
      ],
      "metadata": {
        "id": "Os8OsWw0jGnU"
      },
      "execution_count": null,
      "outputs": []
    }
  ]
}