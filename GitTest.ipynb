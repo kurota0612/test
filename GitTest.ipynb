{
  "nbformat": 4,
  "nbformat_minor": 0,
  "metadata": {
    "colab": {
      "name": "GitTest.ipynb",
      "provenance": [],
      "collapsed_sections": [],
      "include_colab_link": true
    },
    "kernelspec": {
      "name": "python3",
      "display_name": "Python 3"
    },
    "language_info": {
      "name": "python"
    }
  },
  "cells": [
    {
      "cell_type": "markdown",
      "metadata": {
        "id": "view-in-github",
        "colab_type": "text"
      },
      "source": [
        "<a href=\"https://colab.research.google.com/github/kurota0612/test/blob/main/GitTest.ipynb\" target=\"_parent\"><img src=\"https://colab.research.google.com/assets/colab-badge.svg\" alt=\"Open In Colab\"/></a>"
      ]
    },
    {
      "cell_type": "code",
      "source": [
        "# 引き当てたGPUの情報を確認する\n",
        "gpu_info = !nvidia-smi\n",
        "gpu_info = '\\n'.join(gpu_info)\n",
        "print(gpu_info)"
      ],
      "metadata": {
        "colab": {
          "base_uri": "https://localhost:8080/"
        },
        "id": "McZZdzi3rfXn",
        "outputId": "2e662b2b-428c-4fc7-c1f9-2238af77b9ff"
      },
      "execution_count": null,
      "outputs": [
        {
          "output_type": "stream",
          "name": "stdout",
          "text": [
            "NVIDIA-SMI has failed because it couldn't communicate with the NVIDIA driver. Make sure that the latest NVIDIA driver is installed and running.\n",
            "\n"
          ]
        }
      ]
    },
    {
      "cell_type": "markdown",
      "source": [
        "##各種設定"
      ],
      "metadata": {
        "id": "xa7ALV9LtVjV"
      }
    },
    {
      "cell_type": "code",
      "metadata": {
        "id": "EsGmkRcqRUS2"
      },
      "source": [
        "import os\n",
        "\n",
        "# Google Cloud SDKの権限許可\n",
        "try:\n",
        "    from google.colab import auth\n",
        "    auth.authenticate_user()\n",
        "except ImportError:\n",
        "    pass\n",
        "\n",
        "# GitHubのリポジトリ名\n",
        "REPOSITORY_NAME = '20th_Beginner'\n",
        "# GCEのプロジェクト名\n",
        "PROJECT_ID = 'kaggleops-project'\n",
        "# GCSのバケット名\n",
        "BUCKET_NAME = 'kaggleops-bucket'\n",
        "\n",
        "# 環境変数を設定してる\n",
        "# 左辺は辞書。\"GCLOUD_PROJECT\"はkey。そのvalueとして「PROJECT_ID」\n",
        "os.environ[\"GCLOUD_PROJECT\"] = PROJECT_ID"
      ],
      "execution_count": 1,
      "outputs": []
    },
    {
      "cell_type": "code",
      "metadata": {
        "id": "l38ThIhjRsLM"
      },
      "source": [
        "from google.cloud import storage\n",
        "storage_client = storage.Client(project=PROJECT_ID)"
      ],
      "execution_count": 2,
      "outputs": []
    },
    {
      "cell_type": "code",
      "metadata": {
        "id": "pm-ne2PLRtOv",
        "colab": {
          "base_uri": "https://localhost:8080/"
        },
        "outputId": "248da566-8948-4a95-e2b3-77a9f4d71667"
      },
      "source": [
        "# Colabのローカルにリポジトリをclone\n",
        "!git clone https://github.com/kurota0612/{REPOSITORY_NAME}.git"
      ],
      "execution_count": 30,
      "outputs": [
        {
          "output_type": "stream",
          "name": "stdout",
          "text": [
            "Cloning into '20th_Beginner'...\n",
            "remote: Enumerating objects: 119, done.\u001b[K\n",
            "remote: Counting objects: 100% (119/119), done.\u001b[K\n",
            "remote: Compressing objects: 100% (105/105), done.\u001b[K\n",
            "remote: Total 119 (delta 38), reused 0 (delta 0), pack-reused 0\u001b[K\n",
            "Receiving objects: 100% (119/119), 41.67 KiB | 8.33 MiB/s, done.\n",
            "Resolving deltas: 100% (38/38), done.\n"
          ]
        }
      ]
    },
    {
      "cell_type": "code",
      "source": [
        "# パッケージの一括インストール\n",
        "!pip install -qr ./{REPOSITORY_NAME}/requirements.txt"
      ],
      "metadata": {
        "id": "F0A3BjCLrlXJ",
        "colab": {
          "base_uri": "https://localhost:8080/"
        },
        "outputId": "56cc8ce7-1a8a-4431-ec1d-2b87c0622eef"
      },
      "execution_count": 4,
      "outputs": [
        {
          "output_type": "stream",
          "name": "stdout",
          "text": [
            "\u001b[K     |████████████████████████████████| 11.9 MB 33.3 MB/s \n",
            "\u001b[K     |████████████████████████████████| 563 kB 50.2 MB/s \n",
            "\u001b[K     |████████████████████████████████| 6.0 MB 22.9 MB/s \n",
            "\u001b[K     |████████████████████████████████| 146 kB 51.3 MB/s \n",
            "\u001b[K     |████████████████████████████████| 181 kB 32.7 MB/s \n",
            "\u001b[K     |████████████████████████████████| 346 kB 40.6 MB/s \n",
            "\u001b[K     |████████████████████████████████| 79 kB 5.0 MB/s \n",
            "\u001b[K     |████████████████████████████████| 58 kB 5.0 MB/s \n",
            "\u001b[K     |████████████████████████████████| 210 kB 37.8 MB/s \n",
            "\u001b[K     |████████████████████████████████| 1.2 MB 40.0 MB/s \n",
            "\u001b[K     |████████████████████████████████| 132 kB 54.7 MB/s \n",
            "\u001b[K     |████████████████████████████████| 895 kB 40.1 MB/s \n",
            "\u001b[K     |████████████████████████████████| 5.6 MB 47.0 MB/s \n",
            "\u001b[K     |████████████████████████████████| 85 kB 3.8 MB/s \n",
            "\u001b[K     |████████████████████████████████| 3.6 MB 44.2 MB/s \n",
            "\u001b[K     |████████████████████████████████| 179 kB 29.1 MB/s \n",
            "\u001b[K     |████████████████████████████████| 54 kB 1.6 MB/s \n",
            "\u001b[K     |████████████████████████████████| 63 kB 1.4 MB/s \n",
            "\u001b[K     |████████████████████████████████| 41 kB 461 kB/s \n",
            "\u001b[K     |████████████████████████████████| 78 kB 6.1 MB/s \n",
            "\u001b[K     |████████████████████████████████| 79 kB 6.1 MB/s \n",
            "\u001b[K     |████████████████████████████████| 8.6 MB 19.8 MB/s \n",
            "\u001b[K     |████████████████████████████████| 127 kB 62.4 MB/s \n",
            "\u001b[?25h  Building wheel for databricks-cli (setup.py) ... \u001b[?25l\u001b[?25hdone\n",
            "  Building wheel for sqlalchemy (setup.py) ... \u001b[?25l\u001b[?25hdone\n",
            "  Building wheel for torchcontrib (setup.py) ... \u001b[?25l\u001b[?25hdone\n",
            "\u001b[31mERROR: pip's dependency resolver does not currently take into account all the packages that are installed. This behaviour is the source of the following dependency conflicts.\n",
            "tensorflow 2.8.0 requires tf-estimator-nightly==2.8.0.dev2021122109, which is not installed.\n",
            "datascience 0.10.6 requires folium==0.2.1, but you have folium 0.8.3 which is incompatible.\n",
            "arviz 0.11.4 requires typing-extensions<4,>=3.7.4.3, but you have typing-extensions 4.1.1 which is incompatible.\u001b[0m\n"
          ]
        }
      ]
    },
    {
      "cell_type": "code",
      "source": [
        "# 現在のディレクトリを変更\n",
        "# https://qiita.com/bear_montblanc/items/64d7efd9e4ea7caa98f9\n",
        "%cd ./{REPOSITORY_NAME}/mlflow"
      ],
      "metadata": {
        "id": "AwGDcLrZrlyB",
        "colab": {
          "base_uri": "https://localhost:8080/"
        },
        "outputId": "c53d9e34-a731-4846-82b7-dd3c6b476041"
      },
      "execution_count": 31,
      "outputs": [
        {
          "output_type": "stream",
          "name": "stdout",
          "text": [
            "/content/20th_Beginner/20th_Beginner/mlflow\n"
          ]
        }
      ]
    },
    {
      "cell_type": "code",
      "source": [
        "# Google Cloundの設定\n",
        "!gcloud config set project {PROJECT_ID}"
      ],
      "metadata": {
        "id": "PXyemw1QrmOI"
      },
      "execution_count": null,
      "outputs": []
    },
    {
      "cell_type": "code",
      "source": [
        "# !gsutil -mq cp -rn gs://{BUCKET_NAME}/mlruns /content/{BUCKET_NAME}/src\n",
        "\n",
        "# \n",
        "blobs = storage_client.list_blobs(BUCKET_NAME)\n",
        "for blob in blobs:\n",
        "    filepath = blob.name\n",
        "    if filepath[:7]==\"mlruns/\" and len(filepath)!=7:\n",
        "        os.makedirs(\"/\".join(filepath.split(\"/\")[:-1]), exist_ok=True)\n",
        "        blob.download_to_filename(filepath)"
      ],
      "metadata": {
        "id": "eWflicKIrmgk"
      },
      "execution_count": null,
      "outputs": []
    },
    {
      "cell_type": "markdown",
      "source": [
        "##プログラム実行"
      ],
      "metadata": {
        "id": "IBoKWuWfrwRm"
      }
    },
    {
      "cell_type": "markdown",
      "source": [
        "mlproject.pyの中でMLprojectファイル（YAML？）を実行してる\n",
        "\n",
        "⇨MLprojectファイルの中でtrain.pyを実行してる\n",
        "\n",
        "⇨train.pyが実際の学習コード"
      ],
      "metadata": {
        "id": "caibWlk-EvNO"
      }
    },
    {
      "cell_type": "code",
      "source": [
        "!python mlproject.py"
      ],
      "metadata": {
        "id": "lOQnD3ZVrvqQ",
        "colab": {
          "base_uri": "https://localhost:8080/"
        },
        "outputId": "693325f1-4b82-4fbd-c0fc-11e59bd04f7f"
      },
      "execution_count": 35,
      "outputs": [
        {
          "output_type": "stream",
          "name": "stdout",
          "text": [
            "Traceback (most recent call last):\n",
            "  File \"mlproject.py\", line 8, in <module>\n",
            "    with open(os.path.join(FILE_DIR, \"./config/config.yml\")) as file:\n",
            "FileNotFoundError: [Errno 2] No such file or directory: '/content/20th_Beginner/20th_Beginner/mlflow/./config/config.yml'\n"
          ]
        }
      ]
    },
    {
      "cell_type": "markdown",
      "source": [
        "##ローカルに保存されたmlrunsをGCSに転送"
      ],
      "metadata": {
        "id": "uScsv599r0Kj"
      }
    },
    {
      "cell_type": "markdown",
      "source": [
        "ローカル（Colab？）に保存されたmlflowの結果ファイルをGCSに転送する\n",
        "\n",
        "⇨後でGCSからGCEに結果ファイルをコピーしてブラウザから結果を確認する"
      ],
      "metadata": {
        "id": "HjL6LOahGYUf"
      }
    },
    {
      "cell_type": "code",
      "source": [
        "# !gsutil -mq cp -rn /content/{REPOSITORY_NAME}/src/mlruns gs://{BUCKET_NAME}\n",
        "\n",
        "import glob\n",
        "\n",
        "files = [f for f in glob.glob(\"mlruns/**\", recursive=True) if f[:7]==\"mlruns/\" and len(f)!=7]\n",
        "files_in_bucket = [f.name for f in storage_client.list_blobs(BUCKET_NAME)]\n",
        "bucket = storage_client.get_bucket(BUCKET_NAME)\n",
        "\n",
        "for f in files:\n",
        "    try:\n",
        "        if f not in files_in_bucket:\n",
        "            blob = bucket.blob(f)\n",
        "            blob.upload_from_filename(f)\n",
        "    except:\n",
        "        pass"
      ],
      "metadata": {
        "id": "X0wvpPDXrzYm"
      },
      "execution_count": null,
      "outputs": []
    }
  ]
}